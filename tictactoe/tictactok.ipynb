{
 "cells": [
  {
   "cell_type": "code",
   "execution_count": 13,
   "id": "3442ba95",
   "metadata": {},
   "outputs": [
    {
     "name": "stdout",
     "output_type": "stream",
     "text": [
      "[' ', ' ', ' ', ' ', ' ', ' ', ' ', ' ', ' ', ' ']\n"
     ]
    }
   ],
   "source": [
    "board = [\" \" for x in range(10)]\n",
    "print(board)"
   ]
  },
  {
   "cell_type": "code",
   "execution_count": 9,
   "id": "3c55d122",
   "metadata": {},
   "outputs": [],
   "source": [
    "def insertletter(letter, pos):\n",
    "    board[pos] = letter"
   ]
  },
  {
   "cell_type": "code",
   "execution_count": null,
   "id": "2d0400ff",
   "metadata": {},
   "outputs": [],
   "source": [
    "def spacefree(pos):\n",
    "    return board[pos] == \" \""
   ]
  },
  {
   "cell_type": "code",
   "execution_count": null,
   "id": "fa98c28d",
   "metadata": {},
   "outputs": [],
   "source": [
    "def isboardfull(board):\n",
    "    if board.count(\" \") > 1:\n",
    "        retrun False\n",
    "    else:\n",
    "        retrun True"
   ]
  },
  {
   "cell_type": "code",
   "execution_count": 18,
   "id": "40fc7916",
   "metadata": {},
   "outputs": [],
   "source": [
    "def iswinner(b, l):\n",
    "    return (b[1] == l and b[2] == l and b[3] == l) or (b[4] == l and b[5] == l and b[6] == l) or  (b[7] == l and b[8] == l and b[9] == l) or  (b[1] == l and b[5] == l and b[9] == l) or  (b[3] == l and b[5] == l and b[7] == l) or  (b[1] == l and b[4] == l and b[7] == l) or (b[2] == l and b[5] == l and b[8] == l) or (b[3] == l and b[5] == l and b[9] == l)"
   ]
  },
  {
   "cell_type": "code",
   "execution_count": 14,
   "id": "bf099a0b",
   "metadata": {},
   "outputs": [],
   "source": [
    "def printBoard(board):\n",
    "    print('   |   |   ')\n",
    "    print(\"\" + board[1] + \" | \" + board[2] + \" | \" + board[3])\n",
    "    print('   |   |   ')\n",
    "    print('------------')\n",
    "    print('   |   |   ')\n",
    "    print(\"\" + board[4] + \" | \" + board[5] + \" | \" + board[6])\n",
    "    print('   |   |   ')\n",
    "    print('------------')\n",
    "    print('   |   |   ')\n",
    "    print(\"\" + board[7] + \" | \" + board[8] + \" | \" + board[9])\n",
    "    print('   |   |   ')"
   ]
  },
  {
   "cell_type": "code",
   "execution_count": 15,
   "id": "43b6789c",
   "metadata": {},
   "outputs": [
    {
     "ename": "TypeError",
     "evalue": "printBoard() missing 1 required positional argument: 'board'",
     "output_type": "error",
     "traceback": [
      "\u001b[1;31m---------------------------------------------------------------------------\u001b[0m",
      "\u001b[1;31mTypeError\u001b[0m                                 Traceback (most recent call last)",
      "Input \u001b[1;32mIn [15]\u001b[0m, in \u001b[0;36m<cell line: 1>\u001b[1;34m()\u001b[0m\n\u001b[1;32m----> 1\u001b[0m \u001b[43mprintBoard\u001b[49m\u001b[43m(\u001b[49m\u001b[43m)\u001b[49m\n",
      "\u001b[1;31mTypeError\u001b[0m: printBoard() missing 1 required positional argument: 'board'"
     ]
    }
   ],
   "source": [
    "printBoard()"
   ]
  },
  {
   "cell_type": "code",
   "execution_count": 20,
   "id": "4596d670",
   "metadata": {},
   "outputs": [],
   "source": [
    "def playerMove():\n",
    "    run = True\n",
    "    while run:\n",
    "        move = input(\"please select an position to place an 'x' (1-9)\")\n",
    "        try : \n",
    "            move = int(move)\n",
    "            if move > 0 and move < 10:\n",
    "                if spacefree(move):\n",
    "                    run = False\n",
    "                    insertLetter(\"X\", move)\n",
    "                else:\n",
    "                    print(\"sorry, this space is occupied\")\n",
    "            else:\n",
    "                print(\"please type a number between 1 and 9\")\n",
    "        except:\n",
    "            print(\"Please type a number\")\n",
    "            "
   ]
  },
  {
   "cell_type": "code",
   "execution_count": null,
   "id": "00424f2b",
   "metadata": {},
   "outputs": [],
   "source": [
    "def computerMove():\n",
    "    possibleMove = [x for x. letter in enumerate(board) if letter == \" \" and x !=0 ]\n",
    "    move = 0\n",
    "    for let in ['0', 'X']:\n",
    "        for i in possibleMove:\n",
    "            boardcopy = board[:]\n",
    "            boardcopy[i] = let\n",
    "            if iswinner(boardcopy, let):\n",
    "                move = i\n",
    "                retunr move"
   ]
  }
 ],
 "metadata": {
  "kernelspec": {
   "display_name": "Python 3 (ipykernel)",
   "language": "python",
   "name": "python3"
  },
  "language_info": {
   "codemirror_mode": {
    "name": "ipython",
    "version": 3
   },
   "file_extension": ".py",
   "mimetype": "text/x-python",
   "name": "python",
   "nbconvert_exporter": "python",
   "pygments_lexer": "ipython3",
   "version": "3.9.12"
  }
 },
 "nbformat": 4,
 "nbformat_minor": 5
}
