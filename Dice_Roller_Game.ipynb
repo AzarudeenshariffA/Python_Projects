{
 "cells": [
  {
   "cell_type": "code",
   "execution_count": 1,
   "id": "e815a6e2",
   "metadata": {},
   "outputs": [],
   "source": [
    "# how to solve a problem\n",
    "## understand the problem\n",
    "## think --> initializing\n",
    "## algorithm\n",
    "## main logic and start working\n",
    "## modify"
   ]
  },
  {
   "cell_type": "code",
   "execution_count": 3,
   "id": "d3bdcf78",
   "metadata": {},
   "outputs": [],
   "source": [
    "# understand the problem\n",
    "### dice\n",
    "### random face no\n",
    "### looping"
   ]
  },
  {
   "cell_type": "code",
   "execution_count": 4,
   "id": "89481a13",
   "metadata": {},
   "outputs": [],
   "source": [
    "# algorithm(pseudo)\n",
    "### generate random num\n",
    "### check the no\n",
    "### print the face \n",
    "### looping"
   ]
  },
  {
   "cell_type": "code",
   "execution_count": null,
   "id": "81063420",
   "metadata": {},
   "outputs": [],
   "source": [
    "### generate random num"
   ]
  },
  {
   "cell_type": "code",
   "execution_count": 5,
   "id": "c91e86f6",
   "metadata": {},
   "outputs": [],
   "source": [
    "import random"
   ]
  },
  {
   "cell_type": "code",
   "execution_count": 10,
   "id": "3e912dde",
   "metadata": {},
   "outputs": [
    {
     "name": "stdout",
     "output_type": "stream",
     "text": [
      "1\n"
     ]
    }
   ],
   "source": [
    "print(random.randint(0,6))"
   ]
  },
  {
   "cell_type": "code",
   "execution_count": null,
   "id": "c7556359",
   "metadata": {},
   "outputs": [],
   "source": [
    "### check the no dice stimulate and loop"
   ]
  },
  {
   "cell_type": "code",
   "execution_count": 19,
   "id": "41367359",
   "metadata": {},
   "outputs": [
    {
     "name": "stdout",
     "output_type": "stream",
     "text": [
      "[-----------]\n",
      "[| 0      0|]\n",
      "[| 0      0|]\n",
      "[| 0      0|]\n",
      "[-----------]\n",
      "Press 'x' to stop and 'y' to roll again: y\n",
      "[-----------]\n",
      "[| 0      0|]\n",
      "[| 0      0|]\n",
      "[| 0      0|]\n",
      "[-----------]\n",
      "Press 'x' to stop and 'y' to roll again: y\n",
      "[-----------]\n",
      "[|         |]\n",
      "[|    0    |]\n",
      "[|         |]\n",
      "[-----------]\n",
      "Press 'x' to stop and 'y' to roll again: y\n",
      "[-----------]\n",
      "[| 0      0|]\n",
      "[| 0      0|]\n",
      "[| 0      0|]\n",
      "[-----------]\n",
      "Press 'x' to stop and 'y' to roll again: y\n",
      "[-----------]\n",
      "[| 0     0 |]\n",
      "[|         |]\n",
      "[| 0     0 |]\n",
      "[-----------]\n",
      "Press 'x' to stop and 'y' to roll again: y\n",
      "[-----------]\n",
      "[| 0     0 |]\n",
      "[|    0    |]\n",
      "[| 0     0 |]\n",
      "[-----------]\n",
      "Press 'x' to stop and 'y' to roll again: x\n"
     ]
    }
   ],
   "source": [
    "x = \"y\"\n",
    "while x.lower() == \"y\":\n",
    "    num = random.randint(1,6)\n",
    "    if num == 1:\n",
    "        print(\"[-----------]\")\n",
    "        print(\"[|         |]\")\n",
    "        print(\"[|    0    |]\")\n",
    "        print(\"[|         |]\")\n",
    "        print(\"[-----------]\")\n",
    "    elif num == 2:\n",
    "        print(\"[-----------]\")\n",
    "        print(\"[|         |]\")\n",
    "        print(\"[| 0     0 |]\")\n",
    "        print(\"[|         |]\")\n",
    "        print(\"[-----------]\")\n",
    "    elif num == 3:\n",
    "        print(\"[-----------]\")\n",
    "        print(\"[     0    |]\")\n",
    "        print(\"[     0    |]\")\n",
    "        print(\"[     0    |]\")\n",
    "        print(\"[-----------]\")\n",
    "    elif num == 4:\n",
    "        print(\"[-----------]\")\n",
    "        print(\"[| 0     0 |]\")\n",
    "        print(\"[|         |]\")\n",
    "        print(\"[| 0     0 |]\")\n",
    "        print(\"[-----------]\")\n",
    "    elif num == 5:\n",
    "        print(\"[-----------]\")\n",
    "        print(\"[| 0     0 |]\")\n",
    "        print(\"[|    0    |]\")\n",
    "        print(\"[| 0     0 |]\")\n",
    "        print(\"[-----------]\")\n",
    "    elif num == 6:\n",
    "        print(\"[-----------]\")\n",
    "        print(\"[| 0      0|]\")\n",
    "        print(\"[| 0      0|]\")\n",
    "        print(\"[| 0      0|]\")\n",
    "        print(\"[-----------]\")\n",
    "    x = input(\"Press 'x' to stop and 'y' to roll again: \")\n",
    "    "
   ]
  },
  {
   "cell_type": "code",
   "execution_count": null,
   "id": "c4b83856",
   "metadata": {},
   "outputs": [],
   "source": [
    "\n"
   ]
  },
  {
   "cell_type": "code",
   "execution_count": null,
   "id": "87f1dfc9",
   "metadata": {},
   "outputs": [],
   "source": []
  }
 ],
 "metadata": {
  "kernelspec": {
   "display_name": "Python 3 (ipykernel)",
   "language": "python",
   "name": "python3"
  },
  "language_info": {
   "codemirror_mode": {
    "name": "ipython",
    "version": 3
   },
   "file_extension": ".py",
   "mimetype": "text/x-python",
   "name": "python",
   "nbconvert_exporter": "python",
   "pygments_lexer": "ipython3",
   "version": "3.9.12"
  }
 },
 "nbformat": 4,
 "nbformat_minor": 5
}
