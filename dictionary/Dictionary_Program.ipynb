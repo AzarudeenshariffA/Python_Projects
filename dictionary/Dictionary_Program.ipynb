{
 "cells": [
  {
   "cell_type": "code",
   "execution_count": 1,
   "id": "6bc570cb",
   "metadata": {},
   "outputs": [],
   "source": [
    "# loading json data "
   ]
  },
  {
   "cell_type": "code",
   "execution_count": 2,
   "id": "911bcd34",
   "metadata": {},
   "outputs": [],
   "source": [
    "import json\n",
    "from difflib import get_close_matches"
   ]
  },
  {
   "cell_type": "code",
   "execution_count": 3,
   "id": "444a1750",
   "metadata": {},
   "outputs": [],
   "source": [
    "data= json.load(open(\"data.json\"))"
   ]
  },
  {
   "cell_type": "code",
   "execution_count": 4,
   "id": "d009aad7",
   "metadata": {},
   "outputs": [
    {
     "name": "stdout",
     "output_type": "stream",
     "text": [
      "<class 'dict'>\n"
     ]
    }
   ],
   "source": [
    "print(type(data))"
   ]
  },
  {
   "cell_type": "code",
   "execution_count": 5,
   "id": "f5c036bb",
   "metadata": {},
   "outputs": [
    {
     "name": "stdout",
     "output_type": "stream",
     "text": [
      "['A musical piece with lyrics (or \"words to sing\"); prose that one can sing.', 'The act of singing.']\n"
     ]
    }
   ],
   "source": [
    "print(data.get(\"song\"))"
   ]
  },
  {
   "cell_type": "code",
   "execution_count": 6,
   "id": "97db6d15",
   "metadata": {},
   "outputs": [],
   "source": [
    "def find_dict(key):\n",
    "    word=key.lower()\n",
    "    if(data.get(word)):\n",
    "        return data[word]\n",
    "        \n",
    "    elif(word.upper() in data):\n",
    "        return data[word.title]\n",
    "        \n",
    "    elif(word.title() in data):\n",
    "        return data[word.title]\n",
    "         \n",
    "    elif len(get_close_matches(word, data.keys())[0])>0:\n",
    "        print(f\"do you mean {get_close_matches(word, data.keys())[0]}?\")\n",
    "        decide = input(\"enter 'y' for YES and 'n' for No\")\n",
    "        \n",
    "        if decide.lower() == 'y':\n",
    "            return data.get(get_close_matches(word, data.keys())[0])\n",
    "            \n",
    "        elif decide.lower() == 'n':\n",
    "            print(\"Sorry there is no word in dictionary\")\n",
    "            \n",
    "        else:\n",
    "            print(\"make sure you have entered right key\")\n",
    "            \n",
    "    else:\n",
    "        print(\"Sorry there is no word in dictionary\")"
   ]
  },
  {
   "cell_type": "code",
   "execution_count": 7,
   "id": "4cc40368",
   "metadata": {},
   "outputs": [
    {
     "name": "stdout",
     "output_type": "stream",
     "text": [
      "Enter a word to get meaning of it: song\n",
      "A musical piece with lyrics (or \"words to sing\"); prose that one can sing.\n",
      "The act of singing.\n"
     ]
    }
   ],
   "source": [
    "word = input(\"Enter a word to get meaning of it: \")\n",
    "\n",
    "words = find_dict(word)\n",
    "for i in words:\n",
    "    if type(words) ==  list:\n",
    "        print(i)\n",
    "    else:\n",
    "        print(words)"
   ]
  },
  {
   "cell_type": "code",
   "execution_count": null,
   "id": "839b0d45",
   "metadata": {},
   "outputs": [],
   "source": []
  }
 ],
 "metadata": {
  "kernelspec": {
   "display_name": "Python 3 (ipykernel)",
   "language": "python",
   "name": "python3"
  },
  "language_info": {
   "codemirror_mode": {
    "name": "ipython",
    "version": 3
   },
   "file_extension": ".py",
   "mimetype": "text/x-python",
   "name": "python",
   "nbconvert_exporter": "python",
   "pygments_lexer": "ipython3",
   "version": "3.9.12"
  }
 },
 "nbformat": 4,
 "nbformat_minor": 5
}
